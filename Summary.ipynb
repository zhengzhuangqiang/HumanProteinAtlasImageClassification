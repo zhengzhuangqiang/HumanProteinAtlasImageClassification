{
 "cells": [
  {
   "cell_type": "markdown",
   "metadata": {},
   "source": [
    "# summary"
   ]
  },
  {
   "cell_type": "raw",
   "metadata": {
    "ExecuteTime": {
     "end_time": "2018-11-20T12:53:15.744220Z",
     "start_time": "2018-11-20T12:53:15.646373Z"
    }
   },
   "source": [
    "tip1: 竞赛提供的训练集与测试集的分布之间存在着较大的差异，这一点从训练集与测试集的均值、方差明显不同可以看出，这造成线上线下预测差异很大\n",
    "guide: 如何提出一种更加鲁棒的方法，使得模型在这训练集上可以泛化到测试集上\n",
    "thinking: 如果将图像切割为多个小图像，训练集与测试集的小图像分布是否会一致？\n"
   ]
  },
  {
   "cell_type": "code",
   "execution_count": null,
   "metadata": {},
   "outputs": [],
   "source": []
  },
  {
   "cell_type": "raw",
   "metadata": {},
   "source": [
    "tip2: 一副图像中只包含一种细胞，且有多个，每个细胞内部标记了一个或者多个细胞器。\n",
    "guide:将图像分割为一个细胞一副图像，如此一来，即达到数据增强的效果，同时由于一副图像中只有一个细胞，相当于变相利用了attention机制"
   ]
  },
  {
   "cell_type": "raw",
   "metadata": {},
   "source": [
    "tip3: 测试集中有的图像与背景几乎相同，也就是说对单张图标最大最小值归一化可以带来性能的提升"
   ]
  },
  {
   "cell_type": "raw",
   "metadata": {},
   "source": [
    "tip4: 对loss增加权重，使得倾向于增大召回率"
   ]
  },
  {
   "cell_type": "code",
   "execution_count": null,
   "metadata": {},
   "outputs": [],
   "source": []
  }
 ],
 "metadata": {
  "kernelspec": {
   "display_name": "Python 3",
   "language": "python",
   "name": "python3"
  },
  "language_info": {
   "codemirror_mode": {
    "name": "ipython",
    "version": 3
   },
   "file_extension": ".py",
   "mimetype": "text/x-python",
   "name": "python",
   "nbconvert_exporter": "python",
   "pygments_lexer": "ipython3",
   "version": "3.6.4"
  },
  "toc": {
   "base_numbering": 1,
   "nav_menu": {},
   "number_sections": true,
   "sideBar": true,
   "skip_h1_title": false,
   "title_cell": "Table of Contents",
   "title_sidebar": "Contents",
   "toc_cell": false,
   "toc_position": {},
   "toc_section_display": true,
   "toc_window_display": false
  },
  "varInspector": {
   "cols": {
    "lenName": 16,
    "lenType": 16,
    "lenVar": 40
   },
   "kernels_config": {
    "python": {
     "delete_cmd_postfix": "",
     "delete_cmd_prefix": "del ",
     "library": "var_list.py",
     "varRefreshCmd": "print(var_dic_list())"
    },
    "r": {
     "delete_cmd_postfix": ") ",
     "delete_cmd_prefix": "rm(",
     "library": "var_list.r",
     "varRefreshCmd": "cat(var_dic_list()) "
    }
   },
   "types_to_exclude": [
    "module",
    "function",
    "builtin_function_or_method",
    "instance",
    "_Feature"
   ],
   "window_display": false
  }
 },
 "nbformat": 4,
 "nbformat_minor": 2
}
